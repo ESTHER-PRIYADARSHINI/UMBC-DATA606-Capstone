{
 "cells": [
  {
   "cell_type": "markdown",
   "id": "0c5e63ac",
   "metadata": {},
   "source": [
    "# Capstone Project: Predicting Customer Bookings\n",
    "\n",
    "This notebook details the entire process of building a predictive model for customer bookings. The objective is to analyze key features, preprocess data, and implement various machine learning models to enhance booking prediction accuracy."
   ]
  },
  {
   "cell_type": "markdown",
   "id": "8dbf2996",
   "metadata": {},
   "source": [
    "## Introduction\n",
    "Understanding factors influencing customer bookings is crucial for airlines to optimize their marketing strategies and improve customer experiences. This project uses a dataset with features like flight duration, booking origin, and passenger preferences to predict booking completion."
   ]
  },
  {
   "cell_type": "markdown",
   "id": "b540384c",
   "metadata": {},
   "source": [
    "## Data Preparation\n",
    "We start by loading the dataset and performing initial preprocessing steps. This includes handling missing values, encoding categorical variables, and normalizing numerical features. Additionally, we address class imbalance using SMOTE to ensure balanced model training."
   ]
  },
  {
   "cell_type": "markdown",
   "id": "d1915163",
   "metadata": {},
   "source": [
    "## Exploratory Data Analysis (EDA)\n",
    "EDA is conducted to gain insights into the data distribution and relationships between features. Visualizations such as histograms and correlation heatmaps are used to identify trends and potential predictors."
   ]
  },
  {
   "cell_type": "markdown",
   "id": "4b180551",
   "metadata": {},
   "source": [
    "## Model Training and Evaluation\n",
    "Multiple models are trained, including Logistic Regression, Random Forest, and XGBoost. Hyperparameter tuning is applied to optimize performance, and each model is evaluated using metrics such as accuracy, precision, recall, and ROC-AUC."
   ]
  },
  {
   "cell_type": "markdown",
   "id": "f3de79a1",
   "metadata": {},
   "source": [
    "## Results\n",
    "The model evaluation results are compared to determine the best-performing model. Feature importance analysis is also conducted to identify which variables have the most significant impact on booking predictions."
   ]
  },
  {
   "cell_type": "markdown",
   "id": "81c86705",
   "metadata": {},
   "source": [
    "## Conclusion\n",
    "The project concludes with a summary of findings and potential areas for future improvement, such as incorporating additional features or experimenting with advanced ensemble techniques."
   ]
  },
  {
   "cell_type": "code",
   "execution_count": null,
   "id": "6324189a",
   "metadata": {
    "colab": {
     "base_uri": "https://localhost:8080/"
    },
    "id": "ykgjVA_e9EST",
    "outputId": "43a663c2-af54-4929-eb06-2b3bf4be07ed"
   },
   "outputs": [
    {
     "name": "stdout",
     "output_type": "stream",
     "text": [
      "<class 'pandas.core.frame.DataFrame'>\n",
      "RangeIndex: 50000 entries, 0 to 49999\n",
      "Data columns (total 14 columns):\n",
      " #   Column                 Non-Null Count  Dtype  \n",
      "---  ------                 --------------  -----  \n",
      " 0   num_passengers         50000 non-null  int64  \n",
      " 1   sales_channel          50000 non-null  object \n",
      " 2   trip_type              50000 non-null  object \n",
      " 3   purchase_lead          50000 non-null  int64  \n",
      " 4   length_of_stay         50000 non-null  int64  \n",
      " 5   flight_hour            50000 non-null  int64  \n",
      " 6   flight_day             50000 non-null  object \n",
      " 7   route                  50000 non-null  object \n",
      " 8   booking_origin         50000 non-null  object \n",
      " 9   wants_extra_baggage    50000 non-null  int64  \n",
      " 10  wants_preferred_seat   50000 non-null  int64  \n",
      " 11  wants_in_flight_meals  50000 non-null  int64  \n",
      " 12  flight_duration        50000 non-null  float64\n",
      " 13  booking_complete       50000 non-null  int64  \n",
      "dtypes: float64(1), int64(8), object(5)\n",
      "memory usage: 5.3+ MB\n",
      "Classification Report:\n",
      "               precision    recall  f1-score   support\n",
      "\n",
      "           0       0.67      0.58      0.62      8444\n",
      "           1       0.63      0.72      0.67      8565\n",
      "\n",
      "    accuracy                           0.65     17009\n",
      "   macro avg       0.65      0.65      0.65     17009\n",
      "weighted avg       0.65      0.65      0.65     17009\n",
      "\n",
      "Confusion Matrix:\n",
      " [[4891 3553]\n",
      " [2402 6163]]\n"
     ]
    }
   ],
   "source": [
    "# Import necessary libraries\n",
    "import pandas as pd\n",
    "import numpy as np\n",
    "from sklearn.preprocessing import LabelEncoder, StandardScaler\n",
    "from sklearn.model_selection import train_test_split\n",
    "from sklearn.linear_model import LogisticRegression\n",
    "from sklearn.metrics import classification_report, confusion_matrix\n",
    "from imblearn.over_sampling import SMOTE\n",
    "\n",
    "# Load the dataset (update the path accordingly if needed)\n",
    "file_path = 'customer_booking.csv'  # Ensure the file is uploaded to your Colab environment\n",
    "df = pd.read_csv(file_path, encoding='ISO-8859-1')\n",
    "\n",
    "# Display basic information about the dataset\n",
    "df.info()\n",
    "\n",
    "# Convert flight_day to numerical values (1-7)\n",
    "day_mapping = {'Mon': 1, 'Tue': 2, 'Wed': 3, 'Thu': 4, 'Fri': 5, 'Sat': 6, 'Sun': 7}\n",
    "df['flight_day_encoded'] = df['flight_day'].map(day_mapping)\n",
    "\n",
    "# Label encoding for sales_channel and trip_type\n",
    "label_encoder_sales_channel = LabelEncoder()\n",
    "label_encoder_trip_type = LabelEncoder()\n",
    "\n",
    "df['sales_channel_encoded'] = label_encoder_sales_channel.fit_transform(df['sales_channel'])\n",
    "df['trip_type_encoded'] = label_encoder_trip_type.fit_transform(df['trip_type'])\n",
    "\n",
    "# Frequency encoding for high cardinality columns: route and booking_origin\n",
    "route_freq_encoding = df['route'].value_counts(normalize=True)\n",
    "booking_origin_freq_encoding = df['booking_origin'].value_counts(normalize=True)\n",
    "\n",
    "df['route_encoded'] = df['route'].map(route_freq_encoding)\n",
    "df['booking_origin_encoded'] = df['booking_origin'].map(booking_origin_freq_encoding)\n",
    "\n",
    "# Select features and target variable\n",
    "features = df[['num_passengers', 'purchase_lead', 'length_of_stay', 'flight_hour', 'flight_day_encoded',\n",
    "               'wants_extra_baggage', 'wants_preferred_seat', 'wants_in_flight_meals',\n",
    "               'flight_duration', 'sales_channel_encoded', 'trip_type_encoded',\n",
    "               'route_encoded', 'booking_origin_encoded']]\n",
    "target = df['booking_complete']\n",
    "\n",
    "# Feature scaling using StandardScaler\n",
    "scaler = StandardScaler()\n",
    "features_scaled = scaler.fit_transform(features)\n",
    "\n",
    "# Handling class imbalance using SMOTE\n",
    "smote = SMOTE(random_state=42)\n",
    "X_resampled, y_resampled = smote.fit_resample(features_scaled, target)\n",
    "\n",
    "# Splitting the dataset into training and testing sets\n",
    "X_train, X_test, y_train, y_test = train_test_split(X_resampled, y_resampled, test_size=0.2, random_state=42)\n",
    "\n",
    "# Train a logistic regression model\n",
    "model = LogisticRegression(random_state=42)\n",
    "model.fit(X_train, y_train)\n",
    "\n",
    "# Make predictions\n",
    "y_pred = model.predict(X_test)\n",
    "\n",
    "# Evaluate the model's performance\n",
    "classification_rep = classification_report(y_test, y_pred)\n",
    "confusion_mat = confusion_matrix(y_test, y_pred)\n",
    "\n",
    "print(\"Classification Report:\\n\", classification_rep)\n",
    "print(\"Confusion Matrix:\\n\", confusion_mat)\n"
   ]
  },
  {
   "cell_type": "markdown",
   "id": "33498e36",
   "metadata": {
    "id": "8CfG83-e-Exc"
   },
   "source": []
  },
  {
   "cell_type": "code",
   "execution_count": null,
   "id": "f81bd8b3",
   "metadata": {
    "colab": {
     "base_uri": "https://localhost:8080/"
    },
    "id": "gQ8xTDcw9RjN",
    "outputId": "617a6af5-aaab-4ff1-98dd-7a7b5c091c85"
   },
   "outputs": [
    {
     "name": "stdout",
     "output_type": "stream",
     "text": [
      "Classification Report (Weighted):\n",
      "               precision    recall  f1-score   support\n",
      "\n",
      "           0       0.67      0.58      0.62      8444\n",
      "           1       0.63      0.72      0.67      8565\n",
      "\n",
      "    accuracy                           0.65     17009\n",
      "   macro avg       0.65      0.65      0.65     17009\n",
      "weighted avg       0.65      0.65      0.65     17009\n",
      "\n",
      "Confusion Matrix (Weighted):\n",
      " [[4873 3571]\n",
      " [2388 6177]]\n",
      "Classification Report (Random Forest):\n",
      "               precision    recall  f1-score   support\n",
      "\n",
      "           0       0.89      0.95      0.92      8444\n",
      "           1       0.95      0.88      0.91      8565\n",
      "\n",
      "    accuracy                           0.92     17009\n",
      "   macro avg       0.92      0.92      0.92     17009\n",
      "weighted avg       0.92      0.92      0.92     17009\n",
      "\n",
      "Confusion Matrix (Random Forest):\n",
      " [[8038  406]\n",
      " [1038 7527]]\n",
      "ROC-AUC Score (Random Forest):\n",
      " 0.9728243186179308\n",
      "Best Parameters (Random Forest): {'max_depth': None, 'min_samples_split': 2, 'n_estimators': 200}\n",
      "Classification Report (Tuned Random Forest):\n",
      "               precision    recall  f1-score   support\n",
      "\n",
      "           0       0.89      0.95      0.92      8444\n",
      "           1       0.95      0.88      0.91      8565\n",
      "\n",
      "    accuracy                           0.92     17009\n",
      "   macro avg       0.92      0.92      0.92     17009\n",
      "weighted avg       0.92      0.92      0.92     17009\n",
      "\n",
      "Confusion Matrix (Tuned Random Forest):\n",
      " [[8036  408]\n",
      " [1017 7548]]\n"
     ]
    }
   ],
   "source": [
    "# Import necessary libraries for additional models and tuning\n",
    "from sklearn.ensemble import RandomForestClassifier\n",
    "from sklearn.model_selection import GridSearchCV, cross_val_score\n",
    "from sklearn.metrics import roc_auc_score\n",
    "\n",
    "# Set class weights to balance the classes\n",
    "model_weighted = LogisticRegression(random_state=42, class_weight='balanced')\n",
    "model_weighted.fit(X_train, y_train)\n",
    "\n",
    "# Predict and evaluate the model with class weights\n",
    "y_pred_weighted = model_weighted.predict(X_test)\n",
    "classification_rep_weighted = classification_report(y_test, y_pred_weighted)\n",
    "confusion_mat_weighted = confusion_matrix(y_test, y_pred_weighted)\n",
    "\n",
    "print(\"Classification Report (Weighted):\\n\", classification_rep_weighted)\n",
    "print(\"Confusion Matrix (Weighted):\\n\", confusion_mat_weighted)\n",
    "\n",
    "# Try a Random Forest Classifier for better performance\n",
    "rf_model = RandomForestClassifier(random_state=42)\n",
    "rf_model.fit(X_train, y_train)\n",
    "\n",
    "# Predict and evaluate the Random Forest model\n",
    "y_pred_rf = rf_model.predict(X_test)\n",
    "classification_rep_rf = classification_report(y_test, y_pred_rf)\n",
    "confusion_mat_rf = confusion_matrix(y_test, y_pred_rf)\n",
    "roc_auc_rf = roc_auc_score(y_test, rf_model.predict_proba(X_test)[:, 1])\n",
    "\n",
    "print(\"Classification Report (Random Forest):\\n\", classification_rep_rf)\n",
    "print(\"Confusion Matrix (Random Forest):\\n\", confusion_mat_rf)\n",
    "print(\"ROC-AUC Score (Random Forest):\\n\", roc_auc_rf)\n",
    "\n",
    "# Hyperparameter tuning using Grid Search for Random Forest\n",
    "param_grid = {\n",
    "    'n_estimators': [100, 200, 300],\n",
    "    'max_depth': [10, 20, None],\n",
    "    'min_samples_split': [2, 5, 10]\n",
    "}\n",
    "grid_search = GridSearchCV(estimator=rf_model, param_grid=param_grid, cv=3, scoring='f1', n_jobs=-1)\n",
    "grid_search.fit(X_train, y_train)\n",
    "\n",
    "# Best parameters and evaluation of the tuned model\n",
    "best_rf = grid_search.best_estimator_\n",
    "y_pred_best_rf = best_rf.predict(X_test)\n",
    "classification_rep_best_rf = classification_report(y_test, y_pred_best_rf)\n",
    "confusion_mat_best_rf = confusion_matrix(y_test, y_pred_best_rf)\n",
    "\n",
    "print(\"Best Parameters (Random Forest):\", grid_search.best_params_)\n",
    "print(\"Classification Report (Tuned Random Forest):\\n\", classification_rep_best_rf)\n",
    "print(\"Confusion Matrix (Tuned Random Forest):\\n\", confusion_mat_best_rf)\n"
   ]
  },
  {
   "cell_type": "code",
   "execution_count": null,
   "id": "e9bcfc36",
   "metadata": {
    "colab": {
     "base_uri": "https://localhost:8080/"
    },
    "id": "f3893AUb-Frg",
    "outputId": "75618cf7-588e-48e8-c307-eb492c4997e2"
   },
   "outputs": [
    {
     "name": "stdout",
     "output_type": "stream",
     "text": [
      "Classification Report (XGBoost):\n",
      "               precision    recall  f1-score   support\n",
      "\n",
      "           0       0.85      0.97      0.91      8444\n",
      "           1       0.97      0.83      0.90      8565\n",
      "\n",
      "    accuracy                           0.90     17009\n",
      "   macro avg       0.91      0.90      0.90     17009\n",
      "weighted avg       0.91      0.90      0.90     17009\n",
      "\n",
      "Confusion Matrix (XGBoost):\n",
      " [[8210  234]\n",
      " [1432 7133]]\n",
      "ROC-AUC Score (XGBoost):\n",
      " 0.9601852719873081\n"
     ]
    }
   ],
   "source": [
    "from xgboost import XGBClassifier\n",
    "\n",
    "xgb_model = XGBClassifier(random_state=42, n_estimators=200, learning_rate=0.1, max_depth=6)\n",
    "xgb_model.fit(X_train, y_train)\n",
    "\n",
    "# Predict and evaluate\n",
    "y_pred_xgb = xgb_model.predict(X_test)\n",
    "classification_rep_xgb = classification_report(y_test, y_pred_xgb)\n",
    "confusion_mat_xgb = confusion_matrix(y_test, y_pred_xgb)\n",
    "roc_auc_xgb = roc_auc_score(y_test, xgb_model.predict_proba(X_test)[:, 1])\n",
    "\n",
    "print(\"Classification Report (XGBoost):\\n\", classification_rep_xgb)\n",
    "print(\"Confusion Matrix (XGBoost):\\n\", confusion_mat_xgb)\n",
    "print(\"ROC-AUC Score (XGBoost):\\n\", roc_auc_xgb)\n"
   ]
  },
  {
   "cell_type": "code",
   "execution_count": null,
   "id": "7e004f0b",
   "metadata": {
    "colab": {
     "base_uri": "https://localhost:8080/",
     "height": 699
    },
    "id": "3Ep0e8pYEM3i",
    "outputId": "3d595f95-396c-4570-f3c9-3bf22154bb0b"
   },
   "outputs": [
    {
     "data": {
      "image/png": "[encoded data removed]",
      "text/plain": [
       "<Figure size 1000x600 with 1 Axes>"
      ]
     },
     "metadata": {},
     "output_type": "display_data"
    }
   ],
   "source": [
    "import matplotlib.pyplot as plt\n",
    "importances = rf_model.feature_importances_\n",
    "feature_names = features.columns\n",
    "sorted_indices = np.argsort(importances)[::-1]\n",
    "\n",
    "plt.figure(figsize=(10, 6))\n",
    "plt.title(\"Feature Importance\")\n",
    "plt.bar(range(features.shape[1]), importances[sorted_indices], align=\"center\")\n",
    "plt.xticks(range(features.shape[1]), feature_names[sorted_indices], rotation=90)\n",
    "plt.show()\n"
   ]
  },
  {
   "cell_type": "code",
   "execution_count": null,
   "id": "5d749c41",
   "metadata": {
    "colab": {
     "base_uri": "https://localhost:8080/"
    },
    "id": "BW9x8SabESaD",
    "outputId": "570820d3-342f-4500-bccb-99aba3917898"
   },
   "outputs": [
    {
     "name": "stdout",
     "output_type": "stream",
     "text": [
      "Classification Report (Voting Classifier):\n",
      "               precision    recall  f1-score   support\n",
      "\n",
      "           0       0.88      0.97      0.92      8444\n",
      "           1       0.97      0.86      0.91      8565\n",
      "\n",
      "    accuracy                           0.92     17009\n",
      "   macro avg       0.92      0.92      0.92     17009\n",
      "weighted avg       0.92      0.92      0.92     17009\n",
      "\n",
      "Confusion Matrix (Voting Classifier):\n",
      " [[8198  246]\n",
      " [1160 7405]]\n"
     ]
    }
   ],
   "source": [
    "from sklearn.ensemble import VotingClassifier\n",
    "\n",
    "# Combine Random Forest and XGBoost using Voting Classifier\n",
    "voting_clf = VotingClassifier(estimators=[\n",
    "    ('rf', rf_model),\n",
    "    ('xgb', xgb_model)\n",
    "], voting='soft')\n",
    "\n",
    "voting_clf.fit(X_train, y_train)\n",
    "y_pred_voting = voting_clf.predict(X_test)\n",
    "classification_rep_voting = classification_report(y_test, y_pred_voting)\n",
    "confusion_mat_voting = confusion_matrix(y_test, y_pred_voting)\n",
    "\n",
    "print(\"Classification Report (Voting Classifier):\\n\", classification_rep_voting)\n",
    "print(\"Confusion Matrix (Voting Classifier):\\n\", confusion_mat_voting)\n"
   ]
  },
  {
   "cell_type": "code",
   "execution_count": null,
   "id": "a6b6988c",
   "metadata": {
    "id": "80xesNoGEWqt"
   },
   "outputs": [],
   "source": []
  }
 ],
 "metadata": {},
 "nbformat": 4,
 "nbformat_minor": 5
}
